{
 "cells": [
  {
   "cell_type": "code",
   "execution_count": 1,
   "metadata": {},
   "outputs": [],
   "source": [
    "import pandas as pd\n",
    "import re"
   ]
  },
  {
   "cell_type": "code",
   "execution_count": 2,
   "metadata": {},
   "outputs": [
    {
     "data": {
      "text/html": [
       "<div>\n",
       "<style scoped>\n",
       "    .dataframe tbody tr th:only-of-type {\n",
       "        vertical-align: middle;\n",
       "    }\n",
       "\n",
       "    .dataframe tbody tr th {\n",
       "        vertical-align: top;\n",
       "    }\n",
       "\n",
       "    .dataframe thead th {\n",
       "        text-align: right;\n",
       "    }\n",
       "</style>\n",
       "<table border=\"1\" class=\"dataframe\">\n",
       "  <thead>\n",
       "    <tr style=\"text-align: right;\">\n",
       "      <th></th>\n",
       "      <th>Package</th>\n",
       "      <th>Version</th>\n",
       "      <th>Depends</th>\n",
       "      <th>Imports</th>\n",
       "      <th>LinkingTo</th>\n",
       "      <th>Suggests</th>\n",
       "      <th>License</th>\n",
       "      <th>MD5sum</th>\n",
       "      <th>NeedsCompilation</th>\n",
       "      <th>Repository</th>\n",
       "      <th>count</th>\n",
       "    </tr>\n",
       "  </thead>\n",
       "  <tbody>\n",
       "    <tr>\n",
       "      <th>0</th>\n",
       "      <td>A3</td>\n",
       "      <td>1.0.0</td>\n",
       "      <td>R (&gt;= 2.15.0), xtable, pbapply</td>\n",
       "      <td>NaN</td>\n",
       "      <td>NaN</td>\n",
       "      <td>randomForest, e1071</td>\n",
       "      <td>GPL (&gt;= 2)</td>\n",
       "      <td>027ebdd8affce8f0effaecfcd5f5ade2</td>\n",
       "      <td>no</td>\n",
       "      <td>https://cran.rstudio.com/src/contrib</td>\n",
       "      <td>116853</td>\n",
       "    </tr>\n",
       "    <tr>\n",
       "      <th>1</th>\n",
       "      <td>AalenJohansen</td>\n",
       "      <td>1.0</td>\n",
       "      <td>NaN</td>\n",
       "      <td>NaN</td>\n",
       "      <td>NaN</td>\n",
       "      <td>knitr, rmarkdown</td>\n",
       "      <td>GPL (&gt;= 2)</td>\n",
       "      <td>d7eb2a6275daa6af43bf8a980398b312</td>\n",
       "      <td>no</td>\n",
       "      <td>https://cran.rstudio.com/src/contrib</td>\n",
       "      <td>3356</td>\n",
       "    </tr>\n",
       "    <tr>\n",
       "      <th>2</th>\n",
       "      <td>AATtools</td>\n",
       "      <td>0.0.2</td>\n",
       "      <td>R (&gt;= 3.6.0)</td>\n",
       "      <td>magrittr, dplyr, doParallel, foreach</td>\n",
       "      <td>NaN</td>\n",
       "      <td>NaN</td>\n",
       "      <td>GPL-3</td>\n",
       "      <td>bc59207786e9bc49167fd7d8af246b1c</td>\n",
       "      <td>no</td>\n",
       "      <td>https://cran.rstudio.com/src/contrib</td>\n",
       "      <td>20756</td>\n",
       "    </tr>\n",
       "    <tr>\n",
       "      <th>3</th>\n",
       "      <td>ABACUS</td>\n",
       "      <td>1.0.0</td>\n",
       "      <td>R (&gt;= 3.1.0)</td>\n",
       "      <td>ggplot2 (&gt;= 3.1.0), shiny (&gt;= 1.3.1),</td>\n",
       "      <td>NaN</td>\n",
       "      <td>rmarkdown (&gt;= 1.13), knitr (&gt;= 1.22)</td>\n",
       "      <td>GPL-3</td>\n",
       "      <td>50c54c4da09307cb95a70aaaa54b9fbd</td>\n",
       "      <td>no</td>\n",
       "      <td>https://cran.rstudio.com/src/contrib</td>\n",
       "      <td>27700</td>\n",
       "    </tr>\n",
       "    <tr>\n",
       "      <th>4</th>\n",
       "      <td>abasequence</td>\n",
       "      <td>0.1.0</td>\n",
       "      <td>NaN</td>\n",
       "      <td>NaN</td>\n",
       "      <td>NaN</td>\n",
       "      <td>NaN</td>\n",
       "      <td>GPL-3</td>\n",
       "      <td>1392d909eb0f65be94fd4160a371ae21</td>\n",
       "      <td>no</td>\n",
       "      <td>https://cran.rstudio.com/src/contrib</td>\n",
       "      <td>1856</td>\n",
       "    </tr>\n",
       "  </tbody>\n",
       "</table>\n",
       "</div>"
      ],
      "text/plain": [
       "         Package Version                         Depends  \\\n",
       "0             A3   1.0.0  R (>= 2.15.0), xtable, pbapply   \n",
       "1  AalenJohansen     1.0                             NaN   \n",
       "2       AATtools   0.0.2                    R (>= 3.6.0)   \n",
       "3         ABACUS   1.0.0                    R (>= 3.1.0)   \n",
       "4    abasequence   0.1.0                             NaN   \n",
       "\n",
       "                                 Imports LinkingTo  \\\n",
       "0                                    NaN       NaN   \n",
       "1                                    NaN       NaN   \n",
       "2   magrittr, dplyr, doParallel, foreach       NaN   \n",
       "3  ggplot2 (>= 3.1.0), shiny (>= 1.3.1),       NaN   \n",
       "4                                    NaN       NaN   \n",
       "\n",
       "                               Suggests     License  \\\n",
       "0                   randomForest, e1071  GPL (>= 2)   \n",
       "1                      knitr, rmarkdown  GPL (>= 2)   \n",
       "2                                   NaN       GPL-3   \n",
       "3  rmarkdown (>= 1.13), knitr (>= 1.22)       GPL-3   \n",
       "4                                   NaN       GPL-3   \n",
       "\n",
       "                             MD5sum NeedsCompilation  \\\n",
       "0  027ebdd8affce8f0effaecfcd5f5ade2               no   \n",
       "1  d7eb2a6275daa6af43bf8a980398b312               no   \n",
       "2  bc59207786e9bc49167fd7d8af246b1c               no   \n",
       "3  50c54c4da09307cb95a70aaaa54b9fbd               no   \n",
       "4  1392d909eb0f65be94fd4160a371ae21               no   \n",
       "\n",
       "                             Repository   count  \n",
       "0  https://cran.rstudio.com/src/contrib  116853  \n",
       "1  https://cran.rstudio.com/src/contrib    3356  \n",
       "2  https://cran.rstudio.com/src/contrib   20756  \n",
       "3  https://cran.rstudio.com/src/contrib   27700  \n",
       "4  https://cran.rstudio.com/src/contrib    1856  "
      ]
     },
     "execution_count": 2,
     "metadata": {},
     "output_type": "execute_result"
    }
   ],
   "source": [
    "df = pd.read_csv(\"../assets/cran_packages_dropped.csv\")\n",
    "df.head()"
   ]
  },
  {
   "cell_type": "code",
   "execution_count": 3,
   "metadata": {},
   "outputs": [
    {
     "data": {
      "text/html": [
       "<div>\n",
       "<style scoped>\n",
       "    .dataframe tbody tr th:only-of-type {\n",
       "        vertical-align: middle;\n",
       "    }\n",
       "\n",
       "    .dataframe tbody tr th {\n",
       "        vertical-align: top;\n",
       "    }\n",
       "\n",
       "    .dataframe thead th {\n",
       "        text-align: right;\n",
       "    }\n",
       "</style>\n",
       "<table border=\"1\" class=\"dataframe\">\n",
       "  <thead>\n",
       "    <tr style=\"text-align: right;\">\n",
       "      <th></th>\n",
       "      <th>Package</th>\n",
       "      <th>Imports</th>\n",
       "      <th>Suggests</th>\n",
       "    </tr>\n",
       "  </thead>\n",
       "  <tbody>\n",
       "    <tr>\n",
       "      <th>0</th>\n",
       "      <td>A3</td>\n",
       "      <td>NaN</td>\n",
       "      <td>randomForest, e1071</td>\n",
       "    </tr>\n",
       "    <tr>\n",
       "      <th>1</th>\n",
       "      <td>AalenJohansen</td>\n",
       "      <td>NaN</td>\n",
       "      <td>knitr, rmarkdown</td>\n",
       "    </tr>\n",
       "    <tr>\n",
       "      <th>2</th>\n",
       "      <td>AATtools</td>\n",
       "      <td>magrittr, dplyr, doParallel, foreach</td>\n",
       "      <td>NaN</td>\n",
       "    </tr>\n",
       "    <tr>\n",
       "      <th>3</th>\n",
       "      <td>ABACUS</td>\n",
       "      <td>ggplot2 (&gt;= 3.1.0), shiny (&gt;= 1.3.1),</td>\n",
       "      <td>rmarkdown (&gt;= 1.13), knitr (&gt;= 1.22)</td>\n",
       "    </tr>\n",
       "    <tr>\n",
       "      <th>4</th>\n",
       "      <td>abasequence</td>\n",
       "      <td>NaN</td>\n",
       "      <td>NaN</td>\n",
       "    </tr>\n",
       "  </tbody>\n",
       "</table>\n",
       "</div>"
      ],
      "text/plain": [
       "         Package                                Imports  \\\n",
       "0             A3                                    NaN   \n",
       "1  AalenJohansen                                    NaN   \n",
       "2       AATtools   magrittr, dplyr, doParallel, foreach   \n",
       "3         ABACUS  ggplot2 (>= 3.1.0), shiny (>= 1.3.1),   \n",
       "4    abasequence                                    NaN   \n",
       "\n",
       "                               Suggests  \n",
       "0                   randomForest, e1071  \n",
       "1                      knitr, rmarkdown  \n",
       "2                                   NaN  \n",
       "3  rmarkdown (>= 1.13), knitr (>= 1.22)  \n",
       "4                                   NaN  "
      ]
     },
     "execution_count": 3,
     "metadata": {},
     "output_type": "execute_result"
    }
   ],
   "source": [
    "df = df[[\"Package\", \"Imports\", \"Suggests\"]]\n",
    "df.head()"
   ]
  },
  {
   "cell_type": "code",
   "execution_count": 4,
   "metadata": {},
   "outputs": [
    {
     "data": {
      "text/html": [
       "<div>\n",
       "<style scoped>\n",
       "    .dataframe tbody tr th:only-of-type {\n",
       "        vertical-align: middle;\n",
       "    }\n",
       "\n",
       "    .dataframe tbody tr th {\n",
       "        vertical-align: top;\n",
       "    }\n",
       "\n",
       "    .dataframe thead th {\n",
       "        text-align: right;\n",
       "    }\n",
       "</style>\n",
       "<table border=\"1\" class=\"dataframe\">\n",
       "  <thead>\n",
       "    <tr style=\"text-align: right;\">\n",
       "      <th></th>\n",
       "      <th>Package</th>\n",
       "      <th>Imports</th>\n",
       "      <th>Suggests</th>\n",
       "    </tr>\n",
       "  </thead>\n",
       "  <tbody>\n",
       "    <tr>\n",
       "      <th>20097</th>\n",
       "      <td>zTree</td>\n",
       "      <td>plyr (&gt;= 1.0)</td>\n",
       "      <td>NaN</td>\n",
       "    </tr>\n",
       "    <tr>\n",
       "      <th>20098</th>\n",
       "      <td>ztype</td>\n",
       "      <td>magrittr, rvest, stats, stringr, utils, dplyr,...</td>\n",
       "      <td>NaN</td>\n",
       "    </tr>\n",
       "    <tr>\n",
       "      <th>20099</th>\n",
       "      <td>ZVCV</td>\n",
       "      <td>Rcpp (&gt;= 0.11.0), glmnet, abind, mvtnorm, stat...</td>\n",
       "      <td>partitions, ggplot2, ggthemes</td>\n",
       "    </tr>\n",
       "    <tr>\n",
       "      <th>20100</th>\n",
       "      <td>zyp</td>\n",
       "      <td>NaN</td>\n",
       "      <td>NaN</td>\n",
       "    </tr>\n",
       "    <tr>\n",
       "      <th>20101</th>\n",
       "      <td>zzlite</td>\n",
       "      <td>httr, jsonlite</td>\n",
       "      <td>httptest, roxygen2, testthat, knitr, rmarkdown</td>\n",
       "    </tr>\n",
       "  </tbody>\n",
       "</table>\n",
       "</div>"
      ],
      "text/plain": [
       "      Package                                            Imports  \\\n",
       "20097   zTree                                      plyr (>= 1.0)   \n",
       "20098   ztype  magrittr, rvest, stats, stringr, utils, dplyr,...   \n",
       "20099    ZVCV  Rcpp (>= 0.11.0), glmnet, abind, mvtnorm, stat...   \n",
       "20100     zyp                                                NaN   \n",
       "20101  zzlite                                     httr, jsonlite   \n",
       "\n",
       "                                             Suggests  \n",
       "20097                                             NaN  \n",
       "20098                                             NaN  \n",
       "20099                   partitions, ggplot2, ggthemes  \n",
       "20100                                             NaN  \n",
       "20101  httptest, roxygen2, testthat, knitr, rmarkdown  "
      ]
     },
     "execution_count": 4,
     "metadata": {},
     "output_type": "execute_result"
    }
   ],
   "source": [
    "df.tail()"
   ]
  },
  {
   "cell_type": "code",
   "execution_count": 5,
   "metadata": {},
   "outputs": [],
   "source": [
    "def rem_brackets(string):\n",
    "    if isinstance(string, str):\n",
    "        return re.sub(r'\\([^()]*\\)', '', string)\n",
    "    return string\n",
    "\n",
    "\n",
    "df[['Imports', 'Suggests']] = df[['Imports', 'Suggests']].map(rem_brackets)"
   ]
  },
  {
   "cell_type": "code",
   "execution_count": 6,
   "metadata": {},
   "outputs": [
    {
     "data": {
      "text/plain": [
       "{'imports': 'ggplot2 , shiny ,', 'suggests': 'rmarkdown , knitr '}"
      ]
     },
     "execution_count": 6,
     "metadata": {},
     "output_type": "execute_result"
    }
   ],
   "source": [
    "packs = {}\n",
    "for _, row in df.iterrows():\n",
    "    package_name = row['Package']\n",
    "    imports = row['Imports'] if pd.notnull(row['Imports']) else []\n",
    "    suggests = row['Suggests'] if pd.notnull(row['Suggests']) else []\n",
    "    packs[package_name.lower()] = {'imports': imports, 'suggests': suggests}\n",
    "\n",
    "packs[\"abacus\"]"
   ]
  },
  {
   "cell_type": "code",
   "execution_count": 7,
   "metadata": {},
   "outputs": [
    {
     "data": {
      "text/plain": [
       "20102"
      ]
     },
     "execution_count": 7,
     "metadata": {},
     "output_type": "execute_result"
    }
   ],
   "source": [
    "len(packs)"
   ]
  },
  {
   "cell_type": "code",
   "execution_count": 8,
   "metadata": {},
   "outputs": [
    {
     "data": {
      "text/plain": [
       "20102"
      ]
     },
     "execution_count": 8,
     "metadata": {},
     "output_type": "execute_result"
    }
   ],
   "source": [
    "known = set()\n",
    "\n",
    "for package in packs:\n",
    "    known.add(package.lower())\n",
    "\n",
    "len(known)"
   ]
  },
  {
   "cell_type": "code",
   "execution_count": 9,
   "metadata": {},
   "outputs": [],
   "source": [
    "for package in packs:\n",
    "    if packs[package]['imports']:\n",
    "        imports = set([ele.strip().lower() for ele in (packs[package][\"imports\"]).split(\",\") if ele.strip().lower() in known])\n",
    "\n",
    "        if \"\" in imports:\n",
    "            imports.remove(\"\")\n",
    "\n",
    "    if packs[package]['suggests']:\n",
    "        suggests = set([ele.strip().lower() for ele in (packs[package][\"suggests\"]).split(\",\") if ele.strip().lower() in known])\n",
    "\n",
    "        if \"\" in suggests:\n",
    "            suggests.remove(\"\")\n",
    "    \n",
    "    packs[package][\"imports\"] = list(imports)\n",
    "    packs[package][\"suggests\"] = list(suggests)"
   ]
  },
  {
   "cell_type": "code",
   "execution_count": 10,
   "metadata": {},
   "outputs": [
    {
     "data": {
      "text/plain": [
       "{'imports': ['shiny', 'ggplot2'], 'suggests': ['knitr', 'rmarkdown']}"
      ]
     },
     "execution_count": 10,
     "metadata": {},
     "output_type": "execute_result"
    }
   ],
   "source": [
    "packs[\"abacus\"]"
   ]
  },
  {
   "cell_type": "code",
   "execution_count": 11,
   "metadata": {},
   "outputs": [
    {
     "data": {
      "text/plain": [
       "20114"
      ]
     },
     "execution_count": 11,
     "metadata": {},
     "output_type": "execute_result"
    }
   ],
   "source": [
    "totality = set()\n",
    "known = set()\n",
    "\n",
    "for package in packs:\n",
    "    totality.add(package.lower())\n",
    "    known.add(package.lower())\n",
    "    \n",
    "    totality.update(packs[package][\"imports\"])\n",
    "    totality.update(packs[package][\"suggests\"])\n",
    "\n",
    "len(totality)"
   ]
  },
  {
   "cell_type": "code",
   "execution_count": 12,
   "metadata": {},
   "outputs": [],
   "source": [
    "unknown = totality.difference(known)"
   ]
  },
  {
   "cell_type": "code",
   "execution_count": 13,
   "metadata": {},
   "outputs": [],
   "source": [
    "for package in packs:\n",
    "    if packs[package]['imports']:\n",
    "        imports = [ele for ele in (packs[package][\"imports\"]) if ele in known]\n",
    "\n",
    "    if packs[package]['suggests']:\n",
    "        suggests = [ele for ele in (packs[package][\"suggests\"]) if ele in known]\n",
    "\n",
    "    packs[package][\"imports\"] = list(imports)\n",
    "    packs[package][\"suggests\"] = list(suggests)"
   ]
  },
  {
   "cell_type": "code",
   "execution_count": 14,
   "metadata": {},
   "outputs": [
    {
     "data": {
      "text/plain": [
       "20102"
      ]
     },
     "execution_count": 14,
     "metadata": {},
     "output_type": "execute_result"
    }
   ],
   "source": [
    "totality = set()\n",
    "known = set()\n",
    "\n",
    "for package in packs:\n",
    "    totality.add(package.lower())\n",
    "    known.add(package.lower())\n",
    "    \n",
    "    totality.update(packs[package][\"imports\"])\n",
    "    totality.update(packs[package][\"suggests\"])\n",
    "\n",
    "len(totality)"
   ]
  },
  {
   "cell_type": "code",
   "execution_count": 15,
   "metadata": {},
   "outputs": [
    {
     "name": "stdout",
     "output_type": "stream",
     "text": [
      "4\n"
     ]
    },
    {
     "data": {
      "text/plain": [
       "'abacus'"
      ]
     },
     "execution_count": 15,
     "metadata": {},
     "output_type": "execute_result"
    }
   ],
   "source": [
    "index = {}\n",
    "label = {}\n",
    "\n",
    "i = 1\n",
    "\n",
    "for package in packs:\n",
    "    index[package.lower()] = i\n",
    "    label[i] = package.lower()\n",
    "    i += 1\n",
    "\n",
    "print(index[\"abacus\"])\n",
    "label[4]"
   ]
  },
  {
   "cell_type": "code",
   "execution_count": 16,
   "metadata": {},
   "outputs": [
    {
     "data": {
      "text/plain": [
       "{'strong': [16523, 6644], 'weak': [8780, 15103]}"
      ]
     },
     "execution_count": 16,
     "metadata": {},
     "output_type": "execute_result"
    }
   ],
   "source": [
    "dependecy = {}\n",
    "\n",
    "for package in packs:\n",
    "    dependecy[index[package.lower()]] = {}\n",
    "\n",
    "    strong = [index[ele.lower()] for ele in packs[package][\"imports\"]]\n",
    "    weak = [index[ele.lower()] for ele in packs[package][\"suggests\"]]\n",
    "\n",
    "    dependecy[index[package.lower()]][\"strong\"] = strong\n",
    "    dependecy[index[package.lower()]][\"weak\"] = weak\n",
    "\n",
    "dependecy[4]"
   ]
  },
  {
   "cell_type": "code",
   "execution_count": 17,
   "metadata": {},
   "outputs": [
    {
     "data": {
      "text/plain": [
       "'shiny'"
      ]
     },
     "execution_count": 17,
     "metadata": {},
     "output_type": "execute_result"
    }
   ],
   "source": [
    "label[16523]"
   ]
  },
  {
   "cell_type": "code",
   "execution_count": 18,
   "metadata": {},
   "outputs": [],
   "source": [
    "import json\n",
    "\n",
    "json.dump(dependecy, open(\"./dependecy.json\", \"w\"))\n",
    "json.dump(index, open(\"./indices.json\", \"w\"))\n",
    "json.dump(label, open(\"./labels.json\", \"w\"))"
   ]
  }
 ],
 "metadata": {
  "kernelspec": {
   "display_name": "Python 3",
   "language": "python",
   "name": "python3"
  },
  "language_info": {
   "codemirror_mode": {
    "name": "ipython",
    "version": 3
   },
   "file_extension": ".py",
   "mimetype": "text/x-python",
   "name": "python",
   "nbconvert_exporter": "python",
   "pygments_lexer": "ipython3",
   "version": "3.11.5"
  }
 },
 "nbformat": 4,
 "nbformat_minor": 2
}
